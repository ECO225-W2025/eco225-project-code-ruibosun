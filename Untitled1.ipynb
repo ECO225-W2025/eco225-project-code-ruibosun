{
 "cells": [
  {
   "cell_type": "code",
   "execution_count": 10,
   "id": "b51da3de-9493-4bfb-9cb1-49b9bd114346",
   "metadata": {},
   "outputs": [
    {
     "name": "stdout",
     "output_type": "stream",
     "text": [
      "   FIPS Admin2 Province_State Country_Region          Last_Update       Lat  \\\n",
      "0   NaN    NaN            NaN    Afghanistan  2021-01-02 05:22:33  33.93911   \n",
      "1   NaN    NaN            NaN        Albania  2021-01-02 05:22:33  41.15330   \n",
      "2   NaN    NaN            NaN        Algeria  2021-01-02 05:22:33  28.03390   \n",
      "3   NaN    NaN            NaN        Andorra  2021-01-02 05:22:33  42.50630   \n",
      "4   NaN    NaN            NaN         Angola  2021-01-02 05:22:33 -11.20270   \n",
      "\n",
      "       Long_  Confirmed  Deaths  Recovered  Active Combined_Key  \\\n",
      "0  67.709953      52513    2201      41727    8585  Afghanistan   \n",
      "1  20.168300      58316    1181      33634   23501      Albania   \n",
      "2   1.659600      99897    2762      67395   29740      Algeria   \n",
      "3   1.521800       8117      84       7463     570      Andorra   \n",
      "4  17.873900      17568     405      11146    6017       Angola   \n",
      "\n",
      "   Incident_Rate  Case_Fatality_Ratio  \n",
      "0     134.896578             4.191343  \n",
      "1    2026.409062             2.025173  \n",
      "2     227.809861             2.764848  \n",
      "3   10505.403482             1.034865  \n",
      "4      53.452981             2.305328  \n"
     ]
    }
   ],
   "source": [
    "import pandas as pd\n",
    "\n",
    "# Raw URL of the dataset\n",
    "url = \"https://raw.githubusercontent.com/CSSEGISandData/COVID-19/refs/heads/master/csse_covid_19_data/csse_covid_19_daily_reports/01-01-2021.csv\"\n",
    "\n",
    "# Load the CSV and skip bad lines\n",
    "data = pd.read_csv(url)  # Skip problematic lines\n",
    "print(data.head())"
   ]
  },
  {
   "cell_type": "code",
   "execution_count": null,
   "id": "85792ab0-eba9-4ec7-86d1-bdaf0561cea3",
   "metadata": {},
   "outputs": [],
   "source": []
  }
 ],
 "metadata": {
  "kernelspec": {
   "display_name": "Python [conda env:base] *",
   "language": "python",
   "name": "conda-base-py"
  },
  "language_info": {
   "codemirror_mode": {
    "name": "ipython",
    "version": 3
   },
   "file_extension": ".py",
   "mimetype": "text/x-python",
   "name": "python",
   "nbconvert_exporter": "python",
   "pygments_lexer": "ipython3",
   "version": "3.12.7"
  }
 },
 "nbformat": 4,
 "nbformat_minor": 5
}
